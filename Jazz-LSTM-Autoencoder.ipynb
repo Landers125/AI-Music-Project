{
 "cells": [
  {
   "cell_type": "code",
   "execution_count": 1,
   "metadata": {},
   "outputs": [
    {
     "name": "stdout",
     "output_type": "stream",
     "text": [
      "456 midifiles found.\n"
     ]
    },
    {
     "ename": "NameError",
     "evalue": "name 'data_cur' is not defined",
     "output_type": "error",
     "traceback": [
      "\u001b[1;31m---------------------------------------------------------------------------\u001b[0m",
      "\u001b[1;31mNameError\u001b[0m                                 Traceback (most recent call last)",
      "\u001b[1;32m<ipython-input-1-f764117db94d>\u001b[0m in \u001b[0;36m<module>\u001b[1;34m\u001b[0m\n\u001b[0;32m     33\u001b[0m \u001b[1;33m\u001b[0m\u001b[0m\n\u001b[0;32m     34\u001b[0m         \u001b[0mdatafile\u001b[0m \u001b[1;33m=\u001b[0m \u001b[0mmidi_file\u001b[0m\u001b[1;33m[\u001b[0m\u001b[1;33m:\u001b[0m\u001b[0mlen\u001b[0m\u001b[1;33m(\u001b[0m\u001b[0mmidi_file\u001b[0m\u001b[1;33m)\u001b[0m \u001b[1;33m-\u001b[0m \u001b[1;36m4\u001b[0m\u001b[1;33m]\u001b[0m \u001b[1;33m+\u001b[0m \u001b[1;34m'.npy'\u001b[0m\u001b[1;33m\u001b[0m\u001b[1;33m\u001b[0m\u001b[0m\n\u001b[1;32m---> 35\u001b[1;33m         \u001b[0mnp\u001b[0m\u001b[1;33m.\u001b[0m\u001b[0msave\u001b[0m\u001b[1;33m(\u001b[0m\u001b[0mdatafile\u001b[0m\u001b[1;33m,\u001b[0m \u001b[0mdata_cur\u001b[0m\u001b[1;33m)\u001b[0m\u001b[1;33m\u001b[0m\u001b[1;33m\u001b[0m\u001b[0m\n\u001b[0m",
      "\u001b[1;31mNameError\u001b[0m: name 'data_cur' is not defined"
     ]
    }
   ],
   "source": [
    "# -*- coding: utf-8 -*-\n",
    "\"\"\"\n",
    "Created on Fri Jul 27 13:12:45 2018\n",
    "@author: fj123\n",
    "@description: This script encode all the midi music in the collected dataset into the \n",
    "desined data representation. The encoded data representations will be saved in .npy format\n",
    "under the same directory of the midi file.\n",
    "\"\"\"\n",
    "\n",
    "import utils\n",
    "import numpy as np\n",
    "import os\n",
    "\n",
    "# load all the data paths in the midi dataset.\n",
    "#path = '..\\\\midis\\\\'\n",
    "path = 'Jazzomat MIDI'\n",
    "try:\n",
    "    data_paths = [os.path.join(path, o) \\\n",
    "                  for o in os.listdir(path) \\\n",
    "                  if os.path.isdir(os.path.join(path, o))]\n",
    "except OSError as e:\n",
    "    print('Error: Invalid datapath!!!')\n",
    "\n",
    "# convert all the midis into data representation and save as .npy file.\n",
    "# the encoded data file will be monophinic and wrapped within one octave.\n",
    "for data_path in data_paths:\n",
    "    midi_files = utils.get_file_paths(data_path)\n",
    "    \n",
    "    for midi_file in midi_files:\n",
    "        #data_cur = utils.load_data(midi_file)\n",
    "        #utils.to_monophonic(data_cur)\n",
    "        #data_cur = utils.to_octave(data_cur)\n",
    "        \n",
    "        datafile = midi_file[:len(midi_file) - 4] + '.npy'\n",
    "        np.save(datafile, data_cur)"
   ]
  },
  {
   "cell_type": "markdown",
   "metadata": {},
   "source": [
    "# Feeding Jazzomat Dataset\n",
    "456 midi files from different jazz artists"
   ]
  },
  {
   "cell_type": "code",
   "execution_count": 2,
   "metadata": {},
   "outputs": [
    {
     "name": "stdout",
     "output_type": "stream",
     "text": [
      "456 data files found.\n",
      "Jazzomat MIDI\\all done!\n"
     ]
    }
   ],
   "source": [
    "# -*- coding: utf-8 -*-\n",
    "\"\"\"\n",
    "Created on Fri Jul 27 13:12:45 2018\n",
    "@author: fj123\n",
    "@description: This script will copy the encoded data representations in the dataset into \n",
    "data\\\\train and data\\\\validation folders. The dividing portion for train and validation \n",
    "will be 4:1.\n",
    "\"\"\"\n",
    "\n",
    "import os\n",
    "import utils\n",
    "import numpy as np\n",
    "\n",
    "# get all the datapaths in the dataset\n",
    "#path = '..\\\\midis\\\\'\n",
    "path = 'Jazzomat MIDI'\n",
    "try:\n",
    "    data_paths = [os.path.join(path, o) \\\n",
    "                  for o in os.listdir(path) \\\n",
    "                  if os.path.isdir(os.path.join(path, o))]\n",
    "except OSError as e:\n",
    "    print('Error: Invalid datapath!!!')\n",
    "\n",
    "count = 0\n",
    "#data_paths = func\n",
    "# copy the data files in to data\\\\train and data\\\\validation\n",
    "# the file names are changed to be index numbers of the music pieces.\n",
    "for data_path in data_paths:\n",
    "    midi_datas = utils.get_data_paths(data_path)\n",
    "    \n",
    "    for midi_data in midi_datas:\n",
    "\n",
    "    \tdata_cur = np.load(midi_data)\n",
    "    \tif count % 5 == 4:\n",
    "    \t\tnp.save('data\\\\validation\\\\{}.npy'.format(count), data_cur)\n",
    "    \telse:\n",
    "    \t\tnp.save('data\\\\train\\\\{}.npy'.format(count), data_cur)\n",
    "\n",
    "    \tcount += 1\n",
    "\n",
    "    print(data_path + ' done!')"
   ]
  },
  {
   "cell_type": "markdown",
   "metadata": {},
   "source": [
    "# Split data into training/validation, then __TRAINING__"
   ]
  },
  {
   "cell_type": "code",
   "execution_count": 3,
   "metadata": {},
   "outputs": [],
   "source": [
    "# -*- coding: utf-8 -*-\n",
    "\"\"\"\n",
    "Created on Sun Jul 15 11:16:10 2018\n",
    "@author: fj123\n",
    "@description: Use this script to train the model~=v=~\n",
    "\"\"\"\n",
    "#tensorflow.keras.layers\n",
    "\n",
    "\n",
    "import os\n",
    "from tensorflow.keras.models import Sequential, load_model\n",
    "from tensorflow.keras.layers import LSTM, Bidirectional\n",
    "from tensorflow.keras.optimizers import RMSprop, Adam, SGD\n",
    "from tensorflow.keras import backend as K\n",
    "from tensorflow.keras.utils import to_categorical\n",
    "from tensorflow.keras.callbacks import ModelCheckpoint, Callback\n",
    "import numpy as np\n",
    "import matplotlib.pyplot as plt\n",
    "import utils\n",
    "\n",
    "# lstm autoencoder recreate sequence\n",
    "from numpy import array\n",
    "from tensorflow.keras.models import Sequential\n",
    "from tensorflow.keras.layers import LSTM\n",
    "from tensorflow.keras.layers import Dense, Dropout, Activation\n",
    "from tensorflow.keras.layers import RepeatVector\n",
    "from tensorflow.keras.layers import TimeDistributed\n",
    "from tensorflow.keras.utils import plot_model\n",
    "\n",
    "# define constants\n",
    "NUMBER_FEATURES_OCTAVE = utils.NUMBER_FEATURES_OCTAVE # 12 midi_notes + sustain + rest + beat_start\n",
    "NUMBER_FEATURES = utils.NUMBER_FEATURES # 128 midi_notes + sustain + rest + beat_start\n",
    "INSTRUMENTS = utils.INSTRUMENTS # number of instruments in midifile\n",
    "\n",
    "# parameters setting =v=\n",
    "num_steps = 3\n",
    "steps_per_epoch = 3\n",
    "batch_size = 128 #orig 256\n",
    "skip_step = 3\n",
    "lr = 0.01\n",
    "dropout = 0.4\n",
    "decay_rate = 0.2 ** 6\n",
    "vocabulary = 14\n",
    "embedding_size = 16 #16\n",
    "hidden_size = 128\n",
    "num_epochs = 50 #antes 50"
   ]
  },
  {
   "cell_type": "code",
   "execution_count": null,
   "metadata": {},
   "outputs": [],
   "source": [
    "NUMBER_FEATURES_OCTAVE"
   ]
  },
  {
   "cell_type": "code",
   "execution_count": 4,
   "metadata": {},
   "outputs": [],
   "source": [
    "# paths for training and validation data, experiment path for saving figures and models\n",
    "train_data_path = 'data/train'\n",
    "valid_data_path = 'data/validation'\n",
    "experiment_path = 'experiment'"
   ]
  },
  {
   "cell_type": "code",
   "execution_count": 5,
   "metadata": {},
   "outputs": [
    {
     "name": "stdout",
     "output_type": "stream",
     "text": [
      "365 data files found.\n",
      "done!\n",
      "91 data files found.\n",
      "done!\n"
     ]
    }
   ],
   "source": [
    "# load the training data from the encoded .npy files.\n",
    "train_data = utils.reload_data_all(train_data_path)\n",
    "valid_data = utils.reload_data_all(valid_data_path)"
   ]
  },
  {
   "cell_type": "code",
   "execution_count": 104,
   "metadata": {},
   "outputs": [
    {
     "data": {
      "text/plain": [
       "9"
      ]
     },
     "execution_count": 104,
     "metadata": {},
     "output_type": "execute_result"
    }
   ],
   "source": [
    "sequence = array([0.1, 0.2, 0.3, 0.4, 0.5, 0.6, 0.7, 0.8, 0.9])\n",
    "# reshape input into [samples, timesteps, features]\n",
    "n_in = len(sequence)\n",
    "n_in"
   ]
  },
  {
   "cell_type": "code",
   "execution_count": 13,
   "metadata": {},
   "outputs": [
    {
     "data": {
      "text/plain": [
       "1095"
      ]
     },
     "execution_count": 13,
     "metadata": {},
     "output_type": "execute_result"
    }
   ],
   "source": [
    "n_in"
   ]
  },
  {
   "cell_type": "code",
   "execution_count": null,
   "metadata": {},
   "outputs": [
    {
     "name": "stdout",
     "output_type": "stream",
     "text": [
      "Model: \"sequential_37\"\n",
      "_________________________________________________________________\n",
      "Layer (type)                 Output Shape              Param #   \n",
      "=================================================================\n",
      "dropout_65 (Dropout)         (None, 3, 30)             0         \n",
      "_________________________________________________________________\n",
      "time_distributed_67 (TimeDis (None, 3, 16)             496       \n",
      "_________________________________________________________________\n",
      "lstm_80 (LSTM)               (None, 128)               74240     \n",
      "_________________________________________________________________\n",
      "repeat_vector_35 (RepeatVect (None, 3, 128)            0         \n",
      "_________________________________________________________________\n",
      "lstm_81 (LSTM)               (None, 3, 128)            131584    \n",
      "_________________________________________________________________\n",
      "dropout_66 (Dropout)         (None, 3, 128)            0         \n",
      "_________________________________________________________________\n",
      "time_distributed_68 (TimeDis (None, 3, 14)             1806      \n",
      "_________________________________________________________________\n",
      "activation_34 (Activation)   (None, 3, 14)             0         \n",
      "=================================================================\n",
      "Total params: 208,126\n",
      "Trainable params: 208,126\n",
      "Non-trainable params: 0\n",
      "_________________________________________________________________\n",
      "None\n",
      "Epoch 1/50\n",
      " 998/1000 [============================>.] - ETA: 0s - loss: 0.5838 - acc: 0.7665Epoch 1/50\n",
      "1092/1000 [================================] - 13s 11ms/step - loss: 0.1294 - acc: 0.9578\n",
      "\n",
      "Epoch 00001: saving model to experimentmodel01-valloss0.13-valacc.hdf5\n"
     ]
    },
    {
     "data": {
      "image/png": "[encoded data removed]",
      "text/plain": [
       "<Figure size 432x288 with 1 Axes>"
      ]
     },
     "metadata": {
      "needs_background": "light"
     },
     "output_type": "display_data"
    },
    {
     "name": "stdout",
     "output_type": "stream",
     "text": [
      "1000/1000 [==============================] - 57s 57ms/step - loss: 0.5835 - acc: 0.7666 - val_loss: 0.1291 - val_acc: 0.9578\n",
      "Epoch 2/50\n",
      " 997/1000 [============================>.] - ETA: 0s - loss: 0.4747 - acc: 0.8014Epoch 1/50\n",
      "1092/1000 [================================] - 7s 7ms/step - loss: 0.1103 - acc: 0.9602\n",
      "\n",
      "Epoch 00002: saving model to experimentmodel02-valloss0.11-valacc.hdf5\n"
     ]
    },
    {
     "data": {
      "image/png": "[encoded data removed]",
      "text/plain": [
       "<Figure size 432x288 with 1 Axes>"
      ]
     },
     "metadata": {
      "needs_background": "light"
     },
     "output_type": "display_data"
    },
    {
     "name": "stdout",
     "output_type": "stream",
     "text": [
      "1000/1000 [==============================] - 22s 22ms/step - loss: 0.4747 - acc: 0.8014 - val_loss: 0.1112 - val_acc: 0.9602\n",
      "Epoch 3/50\n",
      " 999/1000 [============================>.] - ETA: 0s - loss: 0.4575 - acc: 0.8045Epoch 1/50\n",
      "1092/1000 [================================] - 8s 7ms/step - loss: 0.1174 - acc: 0.9628\n",
      "\n",
      "Epoch 00003: saving model to experimentmodel03-valloss0.12-valacc.hdf5\n"
     ]
    },
    {
     "data": {
      "image/png": "[encoded data removed]",
      "text/plain": [
       "<Figure size 432x288 with 1 Axes>"
      ]
     },
     "metadata": {
      "needs_background": "light"
     },
     "output_type": "display_data"
    },
    {
     "name": "stdout",
     "output_type": "stream",
     "text": [
      "1000/1000 [==============================] - 24s 24ms/step - loss: 0.4574 - acc: 0.8046 - val_loss: 0.1179 - val_acc: 0.9628\n",
      "Epoch 4/50\n",
      " 996/1000 [============================>.] - ETA: 0s - loss: 0.4591 - acc: 0.8057Epoch 1/50\n",
      "1092/1000 [================================] - 8s 7ms/step - loss: 0.1053 - acc: 0.9606\n",
      "\n",
      "Epoch 00004: saving model to experimentmodel04-valloss0.11-valacc.hdf5\n"
     ]
    },
    {
     "data": {
      "image/png": "[encoded data removed]",
      "text/plain": [
       "<Figure size 432x288 with 1 Axes>"
      ]
     },
     "metadata": {
      "needs_background": "light"
     },
     "output_type": "display_data"
    },
    {
     "name": "stdout",
     "output_type": "stream",
     "text": [
      "1000/1000 [==============================] - 24s 24ms/step - loss: 0.4605 - acc: 0.8055 - val_loss: 0.1062 - val_acc: 0.9606\n",
      "Epoch 5/50\n",
      " 996/1000 [============================>.] - ETA: 0s - loss: 0.4426 - acc: 0.8084Epoch 1/50\n",
      "1092/1000 [================================] - 7s 6ms/step - loss: 0.0960 - acc: 0.9642\n",
      "\n",
      "Epoch 00005: saving model to experimentmodel05-valloss0.10-valacc.hdf5\n"
     ]
    },
    {
     "data": {
      "image/png": "[encoded data removed]",
      "text/plain": [
       "<Figure size 432x288 with 1 Axes>"
      ]
     },
     "metadata": {
      "needs_background": "light"
     },
     "output_type": "display_data"
    },
    {
     "name": "stdout",
     "output_type": "stream",
     "text": [
      "1000/1000 [==============================] - 21s 21ms/step - loss: 0.4430 - acc: 0.8083 - val_loss: 0.0976 - val_acc: 0.9642\n",
      "Epoch 6/50\n",
      " 996/1000 [============================>.] - ETA: 0s - loss: 0.4804 - acc: 0.8033Epoch 1/50\n",
      " 573/1000 [================>.............] - ETA: 3s - loss: 0.1052 - acc: 0.9617"
     ]
    }
   ],
   "source": [
    "# this is the batch generator for generating data during model training.\n",
    "class KerasBatchGenerator(object):\n",
    "    \n",
    "    ###########################################################################\n",
    "    # data shape:\n",
    "    #   (number_of_files)(INSTRUMENTS, number_of_ts_in_midi, NUMBER_FEATRUES_OCTAVE)\n",
    "    # num_steps:\n",
    "    #   the number of time steps in one unrolled LSTM model\n",
    "    # batch_size:\n",
    "    #   number of samples in one mini-batch\n",
    "    # vocabulary:\n",
    "    #   number of categories in output\n",
    "    # skip_step:\n",
    "    #   steps to skip when generate the training samples\n",
    "    ###########################################################################\n",
    "    \n",
    "    def __init__(self, data, num_steps, batch_size, vocabulary, skip_step=3):\n",
    "        # save the variables, indexes\n",
    "        self.data = data\n",
    "        self.num_steps = num_steps\n",
    "        self.batch_size = batch_size\n",
    "        self.vocabulary = vocabulary\n",
    "        self.current_index = 0 # index of t in current midifile\n",
    "        self.file_index = 0 # the index of current midifile\n",
    "        self.skip_step = skip_step\n",
    "        \n",
    "        \n",
    "    # generate function called at the beginning of each batch, yield input and output data\n",
    "    def generate(self):\n",
    "        # define dimensions for inputs and outputs\n",
    "        x = np.zeros((self.batch_size, self.num_steps, INSTRUMENTS * NUMBER_FEATURES_OCTAVE), dtype=np.bool)\n",
    "        y = np.zeros((self.batch_size, self.num_steps, self.vocabulary), dtype=np.bool)\n",
    "        \n",
    "        while True:\n",
    "            for i in range(self.batch_size):\n",
    "                # the ith sample in the current batch\n",
    "                \n",
    "                if self.current_index + self.num_steps >= len(self.data[self.file_index][0]):\n",
    "                    self.current_index = 0\n",
    "                    self.file_index = (self.file_index + 1) % len(self.data)\n",
    "                    \n",
    "                while len(self.data[self.file_index][0]) < self.num_steps:\n",
    "                    self.file_index = (self.file_index + 1) % len(self.data)\n",
    "                    \n",
    "                # set values for input and output data\n",
    "                x[i, :, :NUMBER_FEATURES_OCTAVE] = self.data[self.file_index][0, self.current_index : self.current_index + self.num_steps, :]\n",
    "                x[i, 1:, NUMBER_FEATURES_OCTAVE:] = self.data[self.file_index][1, self.current_index : self.current_index + self.num_steps - 1, :]\n",
    "                y[i, :, :] = self.data[self.file_index][1, self.current_index : self.current_index + self.num_steps, :self.vocabulary]\n",
    "                \n",
    "                self.current_index += self.skip_step\n",
    "                \n",
    "            yield x, y\n",
    "\n",
    "\n",
    "# train and validation data batch generators.\n",
    "train_data_generator = KerasBatchGenerator(train_data, num_steps, batch_size,\n",
    "                                           vocabulary, skip_step=skip_step)\n",
    "valid_data_generator = KerasBatchGenerator(valid_data, num_steps, batch_size,\n",
    "                                           vocabulary, skip_step=skip_step)\n",
    "\n",
    "#--------------------------------------------\n",
    "\n",
    "# define input sequence\n",
    "'''sequence = array([0.1, 0.2, 0.3, 0.4, 0.5, 0.6, 0.7, 0.8, 0.9])\n",
    "# reshape input into [samples, timesteps, features]\n",
    "n_in = len(sequence)\n",
    "sequence = sequence.reshape((1, n_in, 1))\n",
    "# define model\n",
    "model = Sequential()\n",
    "model.add(LSTM(100, activation='relu', input_shape=(n_in,1)))\n",
    "model.add(RepeatVector(n_in))\n",
    "model.add(LSTM(100, activation='relu', return_sequences=True))\n",
    "model.add(TimeDistributed(Dense(1)))\n",
    "model.compile(optimizer='adam', loss='mse')\n",
    "# fit model\n",
    "model.fit(sequence, sequence, epochs=300, verbose=0)\n",
    "plot_model(model, show_shapes=True, to_file='reconstruct_lstm_autoencoder.png')\n",
    "# demonstrate recreation\n",
    "yhat = model.predict(sequence, verbose=0)\n",
    "print(yhat[0,:,0])'''\n",
    "\n",
    "#---------------------------------------------\n",
    "#n_in = len(sequence)\n",
    "n_in = len(train_data)\n",
    "# define model structure\n",
    "model = Sequential()\n",
    "model.add(Dropout(dropout, input_shape=(num_steps, NUMBER_FEATURES_OCTAVE * INSTRUMENTS)))\n",
    "model.add(TimeDistributed(Dense(embedding_size)))\n",
    "#model.add((LSTM(128, input_shape=(num_steps, NUMBER_FEATURES_OCTAVE * INSTRUMENTS), return_sequences=True)))\n",
    "model.add((LSTM(hidden_size, return_sequences=False)))\n",
    "# THIS OUTPUT IS THE ENCODED FEATURE VECTOR OF THE INPUT DATA\n",
    "model.add(RepeatVector(3)) # BRIDGE BETWEEN ENCODER-DECODER\n",
    "\n",
    "# Decoder:\n",
    "model.add((LSTM(hidden_size, return_sequences=True)))\n",
    "#model.add((LSTM(128, return_sequences=True)))\n",
    "model.add(Dropout(dropout))\n",
    "model.add(TimeDistributed(Dense(vocabulary)))\n",
    "model.add(Activation('softmax'))\n",
    "optimizer = Adam(lr=lr, decay=decay_rate)\n",
    "\n",
    "# define model structure\n",
    "'''model = Sequential()\n",
    "model.add(Dropout(dropout, input_shape=(num_steps, NUMBER_FEATURES_OCTAVE * INSTRUMENTS)))\n",
    "model.add(TimeDistributed(Dense(embedding_size)))\n",
    "#model.add(Bidirectional(LSTM(hidden_size, return_sequences=True)))\n",
    "model.add(LSTM(hidden_size, input_shape=(num_steps, NUMBER_FEATURES_OCTAVE * INSTRUMENTS), return_sequences=True))\n",
    "model.add(RepeatVector(input_shape=(num_steps, NUMBER_FEATURES_OCTAVE * INSTRUMENTS)))\n",
    "model.add((LSTM(hidden_size, input_shape=(num_steps, NUMBER_FEATURES_OCTAVE * INSTRUMENTS), return_sequences=True))\n",
    "#model.add(Dropout(dropout))\n",
    "model.add(TimeDistributed(Dense(vocabulary)))\n",
    "model.add(Activation('softmax'))\n",
    "optimizer = Adam(lr=lr, decay=decay_rate)'''\n",
    "\n",
    "model.compile(loss='categorical_crossentropy', optimizer=optimizer,\n",
    "              metrics=['accuracy']) #added top 3 acc\n",
    "print(model.summary())\n",
    "\n",
    "#----------------------------------------------------------------------------\n",
    "# save model at end of each epoch\n",
    "#checkpointer = ModelCheckpoint(filepath=experiment_path + 'model{epoch:02d}-valloss{val_loss:.2f}-valacc{val_acc:.2f}.hdf5', verbose=1)\n",
    "checkpointer = ModelCheckpoint(filepath=experiment_path + 'model{epoch:02d}-valloss{val_loss:.2f}-valacc.hdf5', verbose=1)\n",
    "\n",
    "# plot losses at the end of each epoch\n",
    "class PlotLosses(Callback):\n",
    "    def on_train_begin(self, logs={}):\n",
    "        self.i = 0\n",
    "        self.x = []\n",
    "        self.losses = []\n",
    "        self.val_losses = []\n",
    "        \n",
    "        self.logs = []\n",
    "        \n",
    "    def on_epoch_end(self, epoch, logs={}):\n",
    "        self.logs.append(logs)\n",
    "        self.x.append(self.i)\n",
    "        self.losses.append(logs.get('loss'))\n",
    "        self.val_losses.append(logs.get('val_loss'))\n",
    "        self.i += 1\n",
    "        \n",
    "        plt.figure()\n",
    "        plt.plot(self.x, self.losses, 'r--', label='loss')\n",
    "        plt.plot(self.x, self.val_losses, 'g--', label='val_loss')\n",
    "        plt.title('loss vs. valid_loss on epoch{}'.format(self.i))\n",
    "        plt.legend()\n",
    "        plt.grid()\n",
    "        plt.savefig(experiment_path + 'loss vs.valid_loss epoch{}.svg'.format(self.i), format='svg')\n",
    "        plt.show()\n",
    "        \n",
    "plot_losses = PlotLosses()\n",
    "\n",
    "# calculate the number of steps needed for each epoch (one step per batch)\n",
    "steps_per_epoch = 0\n",
    "for i in range(len(train_data)):\n",
    "    steps_per_epoch += len(train_data[i][0] - num_steps) // (batch_size * skip_step)\n",
    "validation_steps = 0\n",
    "for i in range(len(valid_data)):\n",
    "    validation_steps += len(valid_data[i][0] - num_steps) // (batch_size * skip_step)\n",
    "\n",
    "\n",
    "# model training!\n",
    "'''His = model.fit_generator(train_data_generator.generate(), train_data_generator.generate(),\n",
    "                    steps_per_epoch, num_epochs,\n",
    "                    validation_data=valid_data_generator.generate(),\n",
    "                    validation_steps=validation_steps,\n",
    "                    callbacks=[checkpointer, plot_losses])'''\n",
    "\n",
    "His = model.fit_generator(train_data_generator.generate(),\n",
    "                          epochs=num_epochs, steps_per_epoch=1000,\n",
    "                          validation_data=valid_data_generator.generate(),\n",
    "                        validation_steps=validation_steps,\n",
    "                        callbacks=[checkpointer, plot_losses])\n",
    "                          #verbose=0)\n",
    "# fit model\n",
    "'''model.fit(sequence, sequence, epochs=300, verbose=0)\n",
    "plot_model(model, show_shapes=True, to_file='reconstruct_lstm_autoencoder.png')\n",
    "# demonstrate recreation\n",
    "yhat = model.predict(sequence, verbose=0)\n",
    "print(yhat[0,:,0])'''\n",
    "\n",
    "\n"
   ]
  },
  {
   "cell_type": "code",
   "execution_count": 116,
   "metadata": {},
   "outputs": [
    {
     "data": {
      "image/png": "[encoded data removed]",
      "text/plain": [
       "<Figure size 432x288 with 1 Axes>"
      ]
     },
     "metadata": {
      "needs_background": "light"
     },
     "output_type": "display_data"
    },
    {
     "data": {
      "image/png": "[encoded data removed]",
      "text/plain": [
       "<Figure size 432x288 with 1 Axes>"
      ]
     },
     "metadata": {
      "needs_background": "light"
     },
     "output_type": "display_data"
    }
   ],
   "source": [
    "# plot losses in the end.\n",
    "plt.figure()\n",
    "plt.plot(His.history['loss'], 'r--', label='loss')\n",
    "plt.plot(His.history['val_loss'], 'g--', label='validation loss')\n",
    "plt.title('final loss vs. valid_loss')\n",
    "plt.legend()\n",
    "plt.grid(linestyle = \"--\")\n",
    "plt.savefig(experiment_path + 'final loss vs. valid_loss.svg', format='svg')\n",
    "plt.show()\n",
    "\n",
    "# plot accuracies in the end~\n",
    "plt.figure()\n",
    "plt.plot(His.history['acc'], 'r--', label='accuracy')\n",
    "plt.plot(His.history['val_acc'], 'g--', label='validation accuracy')\n",
    "plt.title('final accuracy vs. valid_accuracy')\n",
    "plt.legend()\n",
    "plt.grid(linestyle = \"--\")\n",
    "plt.savefig(experiment_path + 'final accuracy vs. valid_accuracy.svg', format='svg')\n",
    "plt.show()\n",
    "\n",
    "# save losses and accuracies during training~\n",
    "np.save(experiment_path + 'History.loss.npy', His.history['loss'])\n",
    "np.save(experiment_path + 'History.val_loss.npy', His.history['val_loss'])\n",
    "np.save(experiment_path + 'History.acc.npy', His.history['acc'])\n",
    "np.save(experiment_path + 'History.val_acc.npy', His.history['val_acc'])\n",
    "\n",
    "# save the final model at the last epoch\n",
    "model.save(experiment_path + 'final_model.hdf5')"
   ]
  },
  {
   "cell_type": "markdown",
   "metadata": {},
   "source": [
    "# Generation"
   ]
  },
  {
   "cell_type": "code",
   "execution_count": null,
   "metadata": {},
   "outputs": [],
   "source": []
  },
  {
   "cell_type": "code",
   "execution_count": 48,
   "metadata": {},
   "outputs": [
    {
     "name": "stdout",
     "output_type": "stream",
     "text": [
      "(1792, 32, 14)\n",
      "[[[6.7023464e-02 1.5729023e-04 6.8426237e-02 ... 5.7982691e-03\n",
      "   3.5388440e-01 4.1422856e-01]\n",
      "  [8.1185795e-02 6.9766393e-05 7.0618957e-02 ... 5.2614352e-03\n",
      "   3.4595692e-01 4.0500915e-01]\n",
      "  [8.0252409e-02 5.3081294e-05 7.0127994e-02 ... 4.9425825e-03\n",
      "   3.4856686e-01 4.0575680e-01]\n",
      "  ...\n",
      "  [7.9488240e-02 4.6000616e-05 7.0116088e-02 ... 4.8325774e-03\n",
      "   3.5114029e-01 4.0481204e-01]\n",
      "  [7.9488568e-02 4.5999870e-05 7.0116237e-02 ... 4.8325798e-03\n",
      "   3.5114074e-01 4.0481091e-01]\n",
      "  [7.9488888e-02 4.5999266e-05 7.0116393e-02 ... 4.8325835e-03\n",
      "   3.5114121e-01 4.0480980e-01]]\n",
      "\n",
      " [[6.7024082e-02 1.5729868e-04 6.8426579e-02 ... 5.7984702e-03\n",
      "   3.5388571e-01 4.1422474e-01]\n",
      "  [8.1186645e-02 6.9770897e-05 7.0619263e-02 ... 5.2616517e-03\n",
      "   3.4595793e-01 4.0500557e-01]\n",
      "  [8.0252625e-02 5.3083400e-05 7.0128031e-02 ... 4.9427035e-03\n",
      "   3.4856793e-01 4.0575477e-01]\n",
      "  ...\n",
      "  [7.9488136e-02 4.6001987e-05 7.0115805e-02 ... 4.8326459e-03\n",
      "   3.5114169e-01 4.0481102e-01]\n",
      "  [7.9488464e-02 4.6001296e-05 7.0115961e-02 ... 4.8326487e-03\n",
      "   3.5114208e-01 4.0480992e-01]\n",
      "  [7.9488792e-02 4.6000663e-05 7.0116103e-02 ... 4.8326543e-03\n",
      "   3.5114244e-01 4.0480897e-01]]\n",
      "\n",
      " [[6.7023732e-02 1.5729413e-04 6.8426386e-02 ... 5.7983636e-03\n",
      "   3.5388499e-01 4.1422680e-01]\n",
      "  [8.1186213e-02 6.9768554e-05 7.0619121e-02 ... 5.2615386e-03\n",
      "   3.4595743e-01 4.0500745e-01]\n",
      "  [8.0252513e-02 5.3082269e-05 7.0128031e-02 ... 4.9426407e-03\n",
      "   3.4856740e-01 4.0575579e-01]\n",
      "  ...\n",
      "  [7.9488188e-02 4.6001256e-05 7.0115954e-02 ... 4.8326105e-03\n",
      "   3.5114098e-01 4.0481153e-01]\n",
      "  [7.9488531e-02 4.6000514e-05 7.0116110e-02 ... 4.8326128e-03\n",
      "   3.5114139e-01 4.0481040e-01]\n",
      "  [7.9488814e-02 4.5999877e-05 7.0116244e-02 ... 4.8326151e-03\n",
      "   3.5114181e-01 4.0480942e-01]]\n",
      "\n",
      " ...\n",
      "\n",
      " [[6.7023858e-02 1.5729592e-04 6.8426460e-02 ... 5.7984041e-03\n",
      "   3.5388532e-01 4.1422600e-01]\n",
      "  [8.1186362e-02 6.9769485e-05 7.0619151e-02 ... 5.2615833e-03\n",
      "   3.4595767e-01 4.0500665e-01]\n",
      "  [8.0252536e-02 5.3082738e-05 7.0128009e-02 ... 4.9426653e-03\n",
      "   3.4856755e-01 4.0575546e-01]\n",
      "  ...\n",
      "  [7.9488143e-02 4.6001514e-05 7.0115879e-02 ... 4.8326235e-03\n",
      "   3.5114121e-01 4.0481144e-01]\n",
      "  [7.9488486e-02 4.6000849e-05 7.0116051e-02 ... 4.8326273e-03\n",
      "   3.5114169e-01 4.0481022e-01]\n",
      "  [7.9488792e-02 4.6000205e-05 7.0116185e-02 ... 4.8326282e-03\n",
      "   3.5114211e-01 4.0480918e-01]]\n",
      "\n",
      " [[6.7023531e-02 1.5729072e-04 6.8426259e-02 ... 5.7982849e-03\n",
      "   3.5388449e-01 4.1422826e-01]\n",
      "  [8.1185870e-02 6.9766727e-05 7.0618972e-02 ... 5.2614524e-03\n",
      "   3.4595707e-01 4.0500876e-01]\n",
      "  [8.0252461e-02 5.3081454e-05 7.0128016e-02 ... 4.9425950e-03\n",
      "   3.4856701e-01 4.0575647e-01]\n",
      "  ...\n",
      "  [7.9488277e-02 4.6000718e-05 7.0116073e-02 ... 4.8325835e-03\n",
      "   3.5114047e-01 4.0481180e-01]\n",
      "  [7.9488605e-02 4.5999979e-05 7.0116237e-02 ... 4.8325886e-03\n",
      "   3.5114095e-01 4.0481067e-01]\n",
      "  [7.9488918e-02 4.5999335e-05 7.0116378e-02 ... 4.8325909e-03\n",
      "   3.5114130e-01 4.0480968e-01]]\n",
      "\n",
      " [[6.7023411e-02 1.5728956e-04 6.8426207e-02 ... 5.7982528e-03\n",
      "   3.5388425e-01 4.1422898e-01]\n",
      "  [8.1185713e-02 6.9766000e-05 7.0618927e-02 ... 5.2614175e-03\n",
      "   3.4595683e-01 4.0500954e-01]\n",
      "  [8.0252394e-02 5.3081108e-05 7.0127994e-02 ... 4.9425745e-03\n",
      "   3.4856674e-01 4.0575695e-01]\n",
      "  ...\n",
      "  [7.9488233e-02 4.6000452e-05 7.0116103e-02 ... 4.8325718e-03\n",
      "   3.5114017e-01 4.0481216e-01]\n",
      "  [7.9488575e-02 4.5999714e-05 7.0116244e-02 ... 4.8325728e-03\n",
      "   3.5114062e-01 4.0481105e-01]\n",
      "  [7.9488851e-02 4.5999153e-05 7.0116363e-02 ... 4.8325756e-03\n",
      "   3.5114110e-01 4.0480995e-01]]]\n"
     ]
    }
   ],
   "source": [
    "yhat = model.predict(train_data_generator.generate(),steps=32)\n",
    "print(yhat.shape)\n",
    "print(yhat)"
   ]
  },
  {
   "cell_type": "code",
   "execution_count": 36,
   "metadata": {},
   "outputs": [],
   "source": [
    "# -*- coding: utf-8 -*-\n",
    "\"\"\"\n",
    "Created on Wed Aug  8 21:31:19 2018\n",
    "\n",
    "@author: fj123\n",
    "@description: The script will use a selected model to generate accompaniment for midi melodies.\n",
    "use command line arguments:\n",
    "    midifile.mid --model_file model.hdf5 --diversity divf\n",
    "the midiefile is the midi that includes the melody you want to generate accomapniemnt with, model_file\n",
    "should be a model that have an input dimension of (batch_size, num_steps, INSTRUMENTS * NUMBER_FEATRUES_OCTAVE) and \n",
    "an output dimension of (batch_size, num_steps, vacabulary).\n",
    "\"\"\"\n",
    "\n",
    "\n",
    "from keras.models import load_model\n",
    "import numpy as np\n",
    "import utils\n",
    "import argparse\n",
    "\n",
    "# define constants\n",
    "NUMBER_FEATURES_OCTAVE = utils.NUMBER_FEATURES_OCTAVE # 12 midi_notes + sustain + rest + beat_start\n",
    "NUMBER_FEATURES = utils.NUMBER_FEATURES # 128 midi_notes + sustain + rest + beat_start\n",
    "INSTRUMENTS = utils.INSTRUMENTS # number of instruments in midifile\n",
    "num_steps = 32\n",
    "vocabulary = 14\n",
    "\n",
    "import easydict\n",
    "import tensorflow as tf"
   ]
  },
  {
   "cell_type": "code",
   "execution_count": 77,
   "metadata": {},
   "outputs": [
    {
     "name": "stdout",
     "output_type": "stream",
     "text": [
      "----load melody data from midifile: experiment/jingle_bells.mid\n",
      "convert music into monophonic...\n",
      "convert music into within one octave...\n"
     ]
    },
    {
     "name": "stderr",
     "output_type": "stream",
     "text": [
      "/home/pablo/miniconda3/envs/ai37/lib/python3.7/site-packages/pretty_midi/pretty_midi.py:100: RuntimeWarning: Tempo, Key or Time signature change events found on non-zero tracks.  This is not a valid type 0 or type 1 MIDI file.  Tempo, Key or Time Signature may be wrong.\n",
      "  RuntimeWarning)\n"
     ]
    }
   ],
   "source": [
    "args = easydict.EasyDict({\n",
    "        \"midi_file\": 'experiment/jingle_bells.mid',\n",
    "        \"model_file\": 'experimentmodel25-valloss1.44-valacc.hdf5',\n",
    "        \"ignore\": [], #if we want to ignore the drums track, it is usually 9\n",
    "        \"diversity\": 2\n",
    "    })\n",
    "\n",
    "midi_file = args.midi_file\n",
    "model_file = args.model_file\n",
    "diversity = args.diversity\n",
    "#diversity = 2\n",
    "\n",
    "# load the deep learning model and data for the melodeis\n",
    "model = tf.keras.models.load_model(model_file)\n",
    "test_data_raw = utils.load_melody_data(midi_file)\n",
    "utils.to_monophonic(test_data_raw)\n",
    "test_data = utils.to_octave(test_data_raw)\n",
    "\n",
    "# sample a note from the probability distribution.\n",
    "# This helper function is copied from keras lstm examples at:\n",
    "# https://github.com/keras-team/keras/blob/master/examples/lstm_text_generation.py\n",
    "def sample(prediction, diversity=2):\n",
    "    prediction = np.asarray(prediction).astype('float64')\n",
    "    prediction = np.log(prediction) / diversity\n",
    "    prediction_exp = np.exp(prediction)\n",
    "    prediction = prediction_exp / np.sum(prediction_exp)\n",
    "    probs = np.random.multinomial(1, prediction, 1)\n",
    "    return np.argmax(probs)"
   ]
  },
  {
   "cell_type": "code",
   "execution_count": 78,
   "metadata": {},
   "outputs": [
    {
     "name": "stdout",
     "output_type": "stream",
     "text": [
      "convert music within octave back into full piano roll...\n",
      "*********************************\n",
      "melody for the data is:\n",
      "G4  --  --  --  E4  --  --  --  D4  --  --  --  C4  --  --  --  \n",
      "00  00  00  00  00  00  00  00  00  00  00  00  00  00  00  00  \n",
      "\n",
      "G4  --  --  --  --  --  --  --  --  --  --  --  --  --  --  00  \n",
      "00  00  00  00  00  00  00  00  00  00  00  00  00  00  00  --  00  \n",
      "\n",
      "G4  --  --  --  E4  --  --  --  D4  --  --  --  C4  --  --  --  \n",
      "--  D3  --  A#3 D3  00  A#3 G3  00  --  C3  --  G3  00  --  F3  \n",
      "\n",
      "A4  --  --  --  --  --  --  --  --  --  --  --  --  --  --  00  \n",
      "C3  --  00  G3  C3  E3  G3  A#3 D3  --  B3  --  --  00  D3  00  \n",
      "\n",
      "A4  --  --  --  F4  --  --  --  E4  --  --  --  D4  --  --  --  \n",
      "00  00  D3  --  00  --  --  --  A#3 C3  B3  00  00  D3  E3  00  \n",
      "\n",
      "B4  --  --  --  --  --  --  --  --  --  --  --  --  --  --  00  \n",
      "00  00  D3  E3  E3  B3  --  00  D3  B3  G3  C3  --  --  A#3 C3  \n",
      "\n",
      "G4  --  --  --  G4  --  --  --  F4  --  --  --  D4  --  --  --  \n",
      "D3  00  D3  C3  00  G3  D3  00  F3  A3  --  --  G3  --  A3  E3  \n",
      "\n",
      "E4  --  --  --  --  --  --  --  C4  --  --  --  --  --  --  --  \n",
      "--  G3  00  00  G3  --  --  --  C3  --  00  --  D3  --  --  B3  \n",
      "\n",
      "G4  --  --  --  E4  --  --  --  D4  --  --  --  C4  --  --  --  \n",
      "E3  --  00  00  --  00  --  G3  00  G3  E3  --  E3  00  --  --  \n",
      "\n",
      "G4  --  --  --  --  --  --  --  --  --  --  --  --  --  --  00  \n",
      "F3  B3  00  --  00  A#3 --  G3  D3  G3  00  F3  G3  00  C3  --  \n",
      "\n",
      "G4  --  --  --  E4  --  --  --  D4  --  --  --  C4  --  --  --  \n",
      "D3  C3  D3  00  G3  --  00  --  00  C3  C3  00  G3  C3  00  00  \n",
      "\n",
      "A4  --  --  --  --  --  --  --  --  --  --  --  --  --  --  00  \n",
      "E3  00  --  D3  00  00  E3  E3  --  C3  00  --  --  D3  --  00  \n",
      "\n",
      "A4  --  --  --  F4  --  --  --  E4  --  --  --  D4  --  --  --  \n",
      "--  --  C3  G3  00  00  B3  D3  --  C3  00  00  F#3 --  G3  00  \n",
      "\n",
      "G4  --  --  --  G4  --  --  --  G4  --  --  --  G4  --  --  --  \n",
      "D3  00  --  00  --  00  B3  G3  00  --  D3  --  --  --  --  A#3 \n",
      "\n",
      "A4  --  --  --  G4  --  --  --  F4  --  --  --  D4  --  --  --  \n",
      "C3  G3  C3  D3  D3  00  B3  D3  00  --  --  --  D3  00  --  E3  \n",
      "\n",
      "C4  --  --  --  --  --  --  --  --  --  --  --  --  --  --  \n",
      "00  --  E3  00  C3  C3  C3  D3  --  D3  00  00  D3  00  \n",
      "\n",
      "*********************************\n",
      "generate midi...\n"
     ]
    }
   ],
   "source": [
    "# generate accompaniment from left to right.\n",
    "test_data[1, num_steps:, :] = 0\n",
    "i = 0\n",
    "while i + num_steps < len(test_data[0]):\n",
    "    x = np.zeros((1, num_steps, INSTRUMENTS * NUMBER_FEATURES_OCTAVE), dtype=np.bool)\n",
    "    x[:, :, :NUMBER_FEATURES_OCTAVE] = test_data[0, i : i + num_steps, :]\n",
    "    x[:, 1:, NUMBER_FEATURES_OCTAVE:] = test_data[1, i : i + num_steps - 1, :]\n",
    "    \n",
    "    prediction = model.predict(x)\n",
    "    # predict_note = np.argmax(prediction[0, num_steps - 1, :])\n",
    "    predict_note = sample(prediction[0, num_steps - 1, :], diversity)\n",
    "    \n",
    "    test_data[1, i + num_steps - 1, predict_note] = 1\n",
    "    \n",
    "    i += 1\n",
    "    \n",
    "data = utils.reverse_octave(test_data)\n",
    "si = data\n",
    "\n",
    "# combine the generated accompaniment with the original melodies.\n",
    "#data_new = np.copy(test_data_raw)\n",
    "#data_new[1, :, :] = data[1, :, :]\n",
    "\n",
    "# print the generated new music piece and save the music into midi file.\n",
    "utils.print_data(si)\n",
    "utils.generate_midi(si, midi_file[:len(midi_file)-4] + '-generate-' + model_file[:len(model_file)-5] + '-{}.mid'.format(diversity))\n"
   ]
  },
  {
   "cell_type": "code",
   "execution_count": 90,
   "metadata": {},
   "outputs": [
    {
     "data": {
      "text/plain": [
       "array([[[False, False, False, ..., False,  True,  True],\n",
       "        [False, False, False, ..., False,  True, False],\n",
       "        [False, False, False, ..., False,  True, False],\n",
       "        ...,\n",
       "        [False, False, False, ...,  True, False, False],\n",
       "        [False, False, False, ...,  True, False, False],\n",
       "        [False, False, False, ...,  True, False, False]],\n",
       "\n",
       "       [[False, False, False, ..., False,  True,  True],\n",
       "        [False, False, False, ..., False,  True, False],\n",
       "        [False, False, False, ..., False,  True, False],\n",
       "        ...,\n",
       "        [False, False, False, ...,  True, False, False],\n",
       "        [False, False, False, ..., False, False, False],\n",
       "        [False, False, False, ..., False, False, False]]])"
      ]
     },
     "execution_count": 90,
     "metadata": {},
     "output_type": "execute_result"
    }
   ],
   "source": [
    "data_new"
   ]
  },
  {
   "cell_type": "code",
   "execution_count": null,
   "metadata": {},
   "outputs": [],
   "source": []
  },
  {
   "cell_type": "code",
   "execution_count": null,
   "metadata": {},
   "outputs": [],
   "source": []
  },
  {
   "cell_type": "code",
   "execution_count": null,
   "metadata": {},
   "outputs": [],
   "source": []
  },
  {
   "cell_type": "code",
   "execution_count": null,
   "metadata": {},
   "outputs": [],
   "source": [
    "type(valid_data)"
   ]
  }
 ],
 "metadata": {
  "kernelspec": {
   "display_name": "Python 3",
   "language": "python",
   "name": "python3"
  },
  "language_info": {
   "codemirror_mode": {
    "name": "ipython",
    "version": 3
   },
   "file_extension": ".py",
   "mimetype": "text/x-python",
   "name": "python",
   "nbconvert_exporter": "python",
   "pygments_lexer": "ipython3",
   "version": "3.7.3"
  }
 },
 "nbformat": 4,
 "nbformat_minor": 2
}
