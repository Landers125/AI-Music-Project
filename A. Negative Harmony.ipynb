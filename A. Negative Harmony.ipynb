{
 "cells": [
  {
   "cell_type": "markdown",
   "metadata": {},
   "source": [
    "# Negative Harmonizer"
   ]
  },
  {
   "cell_type": "markdown",
   "metadata": {},
   "source": [
    "We need to install mido and easydict."
   ]
  },
  {
   "cell_type": "code",
   "execution_count": 1,
   "metadata": {},
   "outputs": [
    {
     "name": "stdout",
     "output_type": "stream",
     "text": [
      "Requirement already satisfied: mido in c:\\users\\palod\\anaconda3\\lib\\site-packages (1.2.6)\n",
      "Note: you may need to restart the kernel to use updated packages.\n"
     ]
    }
   ],
   "source": [
    "pip install mido"
   ]
  },
  {
   "cell_type": "code",
   "execution_count": 19,
   "metadata": {},
   "outputs": [
    {
     "name": "stdout",
     "output_type": "stream",
     "text": [
      "Collecting easydict\n",
      "  Downloading https://files.pythonhosted.org/packages/4c/c5/5757886c4f538c1b3f95f6745499a24bffa389a805dee92d093e2d9ba7db/easydict-1.9.tar.gz\n",
      "Building wheels for collected packages: easydict\n",
      "  Building wheel for easydict (setup.py): started\n",
      "  Building wheel for easydict (setup.py): finished with status 'done'\n",
      "  Stored in directory: C:\\Users\\palod\\AppData\\Local\\pip\\Cache\\wheels\\9a\\88\\ec\\085d92753646b0eda1b7df49c7afe51a6ecc496556d3012e2e\n",
      "Successfully built easydict\n",
      "Installing collected packages: easydict\n",
      "Successfully installed easydict-1.9\n",
      "Note: you may need to restart the kernel to use updated packages.\n"
     ]
    },
    {
     "name": "stderr",
     "output_type": "stream",
     "text": [
      "Error processing line 7 of C:\\Users\\palod\\Anaconda3\\lib\\site-packages\\pywin32.pth:\n",
      "\n",
      "  Traceback (most recent call last):\n",
      "    File \"C:\\Users\\palod\\Anaconda3\\lib\\site.py\", line 168, in addpackage\n",
      "      exec(line)\n",
      "    File \"<string>\", line 1, in <module>\n",
      "  ModuleNotFoundError: No module named 'pywin32_bootstrap'\n",
      "\n",
      "Remainder of file ignored\n"
     ]
    }
   ],
   "source": [
    "pip install easydict"
   ]
  },
  {
   "cell_type": "code",
   "execution_count": 2,
   "metadata": {},
   "outputs": [],
   "source": [
    "import argparse   #defining arguments in a user friendly way\n",
    "import os         #misc interface\n",
    "import mido       #midi\n",
    "import easydict   #dict values as attributes"
   ]
  },
  {
   "cell_type": "code",
   "execution_count": 19,
   "metadata": {},
   "outputs": [],
   "source": [
    "def get_mirror_axis(tonic): #we define the mirror axis above the tonic note (input)\n",
    "    return tonic + 3.5\n",
    "\n",
    "\n",
    "def mirror_note_over_axis(note, axis): #inputs a note and its mirror axis\n",
    "    original_note_distance = axis - note\n",
    "    return int(axis + original_note_distance)\n",
    "\n",
    "\n",
    "def find_average_octave_of_tracks(mid): #we need to find the octave average in order to keep the song balanced\n",
    "    octaves = {}\n",
    "    for i, track in enumerate(mid.tracks):\n",
    "        track_avg_notes = []\n",
    "        for message in track:\n",
    "            if message.type == 'note_on':\n",
    "                track_avg_notes.append(message.note)\n",
    "        if len(track_avg_notes) > 0:\n",
    "            track_avg_note = sum(track_avg_notes) / len(track_avg_notes)\n",
    "            octaves[i] = track_avg_note\n",
    "            try:\n",
    "                track_name = track.name\n",
    "            except AttributeError:\n",
    "                track_name = i\n",
    "            print(track_name, track_avg_note)\n",
    "    return octaves\n",
    "\n",
    "\n",
    "def mirror_all_notes(mid, mirror_axis, ignored_channels): #mirror the notes that are not to be ignored\n",
    "    for track in mid.tracks:\n",
    "        for message in track:\n",
    "            if message.type == 'note_on' or message.type == 'note_off':\n",
    "                if message.channel not in ignored_channels:\n",
    "                    mirrored_note = mirror_note_over_axis(message.note, mirror_axis)\n",
    "                    message.note = mirrored_note\n",
    "    return\n",
    "\n",
    "\n",
    "def transpose_back_to_original_octaves(mid, original_octaves, new_octaves, ignored_channels):\n",
    "    for i, track in enumerate(mid.tracks):\n",
    "        if i in original_octaves:\n",
    "            notes_distance = original_octaves[i] - new_octaves[i]\n",
    "            octaves_to_transpose = round(notes_distance / 12)\n",
    "            for message in track:\n",
    "                if message.type == 'note_on' or message.type == 'note_off':\n",
    "                    if message.channel not in ignored_channels:\n",
    "                        transposed_note = message.note + (octaves_to_transpose * 12)\n",
    "                        message.note = int(transposed_note)\n",
    "\n",
    "\n",
    "def invert_tonality(mid, tonic, ignored_channels, adjust_octaves):\n",
    "    mirror_axis = get_mirror_axis(tonic)\n",
    "\n",
    "    if adjust_octaves:\n",
    "        print(\"---\")\n",
    "        print(\"original average note values:\")\n",
    "        original_octaves = find_average_octave_of_tracks(mid)\n",
    "\n",
    "    mirror_all_notes(mid, mirror_axis, ignored_channels)\n",
    "\n",
    "    if adjust_octaves:\n",
    "        print(\"---\")\n",
    "        print(\"new average note values:\")\n",
    "        new_octaves = find_average_octave_of_tracks(mid)\n",
    "\n",
    "        transpose_back_to_original_octaves(mid, original_octaves, new_octaves, ignored_channels)\n",
    "\n",
    "        print(\"---\")\n",
    "        print(\"adjusted average note values:\")\n",
    "        find_average_octave_of_tracks(mid)\n",
    "    return\n",
    "\n",
    "\n",
    "def main(input_file, tonic, ignored_channels, adjust_octaves):\n",
    "    root, ext = os.path.splitext(input_file)\n",
    "    mid = mido.MidiFile(input_file)\n",
    "\n",
    "    invert_tonality(mid, tonic, ignored_channels, adjust_octaves)\n",
    "    mid.save(root + \"_negative\" + ext)"
   ]
  },
  {
   "cell_type": "code",
   "execution_count": 20,
   "metadata": {},
   "outputs": [],
   "source": [
    "if __name__ == '__main__':    \n",
    "    args = easydict.EasyDict({\n",
    "        \"file\": 'jingle_bells.mid',\n",
    "        \"tonic\": 60, #default: 60 --> C5 \n",
    "        \"ignore\": [], #if we want to ignore the drums track, it is usually 9\n",
    "        \"adjust_octaves\": False #transpose octaves to keep bass instruments low\n",
    "    })\n",
    "\n",
    "    main(input_file=args.file, tonic=args.tonic, ignored_channels=args.ignore, adjust_octaves=args.adjust_octaves)"
   ]
  },
  {
   "cell_type": "code",
   "execution_count": null,
   "metadata": {},
   "outputs": [],
   "source": []
  }
 ],
 "metadata": {
  "kernelspec": {
   "display_name": "Python 3",
   "language": "python",
   "name": "python3"
  },
  "language_info": {
   "codemirror_mode": {
    "name": "ipython",
    "version": 3
   },
   "file_extension": ".py",
   "mimetype": "text/x-python",
   "name": "python",
   "nbconvert_exporter": "python",
   "pygments_lexer": "ipython3",
   "version": "3.7.3"
  }
 },
 "nbformat": 4,
 "nbformat_minor": 2
}
